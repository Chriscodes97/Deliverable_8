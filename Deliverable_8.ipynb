{
  "nbformat": 4,
  "nbformat_minor": 0,
  "metadata": {
    "colab": {
      "provenance": []
    },
    "kernelspec": {
      "name": "python3",
      "display_name": "Python 3"
    },
    "language_info": {
      "name": "python"
    }
  },
  "cells": [
    {
      "cell_type": "code",
      "execution_count": 25,
      "metadata": {
        "id": "I1tqtqxQm-Rb"
      },
      "outputs": [],
      "source": [
        "import numpy as np"
      ]
    },
    {
      "cell_type": "code",
      "source": [
        "def random_list(size):\n",
        "  list = []\n",
        "  for i in range(size):\n",
        "    list.append(np.random.randint(10,50))\n",
        "  return list\n",
        "\n",
        "def sum_random(list):\n",
        "  sum = 0\n",
        "  for i in range(len(list)):\n",
        "    sum = sum + list[i]\n",
        "  return sum"
      ],
      "metadata": {
        "id": "tmBLPdd_nJ7-"
      },
      "execution_count": 45,
      "outputs": []
    },
    {
      "cell_type": "code",
      "source": [
        "while True:\n",
        " n = int(input('Please enter some integer between 5 and 15: '))\n",
        " if n >= 5 and n <= 15:\n",
        "   break"
      ],
      "metadata": {
        "id": "_sizNleuVJq5"
      },
      "execution_count": null,
      "outputs": []
    },
    {
      "cell_type": "code",
      "source": [
        "MyList = random_list(n)\n",
        "print('The elements of the arrays are: ' + str(MyList))"
      ],
      "metadata": {
        "id": "gYnQcER-VEn1"
      },
      "execution_count": null,
      "outputs": []
    },
    {
      "cell_type": "code",
      "source": [
        "MySum = sum_random(MyList)\n",
        "print('The Sum is: ' + str(MySum))"
      ],
      "metadata": {
        "id": "RAoyJk_nlcm4"
      },
      "execution_count": null,
      "outputs": []
    }
  ]
}
